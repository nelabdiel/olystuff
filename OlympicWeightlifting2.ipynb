{
 "cells": [
  {
   "cell_type": "code",
   "execution_count": null,
   "metadata": {
    "collapsed": true
   },
   "outputs": [],
   "source": [
    "#In this notebook I will try to standarized the results to see which weight class performs that way.\n",
    "#This is work in progress.\n",
    "import requests\n",
    "from bs4 import BeautifulSoup\n",
    "import matplotlib\n",
    "import scipy as sp\n",
    "%matplotlib inline\n",
    "import math\n",
    "import matplotlib.pyplot as plt\n",
    "import numpy as np"
   ]
  },
  {
   "cell_type": "code",
   "execution_count": null,
   "metadata": {
    "collapsed": true
   },
   "outputs": [],
   "source": [
    "r = requests.get(\"http://www.iwf.net/results/ranking-list/?ranking_year=2015&ranking_agegroup=Senior&ranking_gender=M&ranking_category=all&ranking_lifter=all&x=18&y=10\")"
   ]
  },
  {
   "cell_type": "code",
   "execution_count": null,
   "metadata": {
    "collapsed": false
   },
   "outputs": [],
   "source": [
    "r.content"
   ]
  },
  {
   "cell_type": "code",
   "execution_count": null,
   "metadata": {
    "collapsed": true
   },
   "outputs": [],
   "source": [
    "soup = BeautifulSoup(r.content)"
   ]
  },
  {
   "cell_type": "code",
   "execution_count": null,
   "metadata": {
    "collapsed": true
   },
   "outputs": [],
   "source": [
    "rows = soup.find_all(\"tr\")"
   ]
  },
  {
   "cell_type": "code",
   "execution_count": null,
   "metadata": {
    "collapsed": true
   },
   "outputs": [],
   "source": [
    "#this list will collect the body weight of the lifters\n",
    "bw = []\n",
    "for row in rows:\n",
    "    cells = row.find_all('td')\n",
    "\n",
    "    \n",
    "\n",
    "    for i, cell in enumerate(cells):\n",
    "        if i == 4:\n",
    "            bw.append(cell.text.strip())"
   ]
  },
  {
   "cell_type": "code",
   "execution_count": null,
   "metadata": {
    "collapsed": false
   },
   "outputs": [],
   "source": [
    "#this list will collect the total lifted by the lifters.\n",
    "total = []\n",
    "for row in rows:\n",
    "    cells = row.find_all('td')\n",
    "\n",
    "    \n",
    "\n",
    "    for i, cell in enumerate(cells):\n",
    "        if i == 7:\n",
    "            total.append(cell.text.strip())"
   ]
  },
  {
   "cell_type": "code",
   "execution_count": null,
   "metadata": {
    "collapsed": false
   },
   "outputs": [],
   "source": [
    "bwtotal56 = []\n",
    "\n",
    "for i in range(len(bw)):\n",
    "    if float(bw[i]) <=56:\n",
    "        bwtotal56.append((bw[i],total[i]))\n",
    "        \n",
    "bw56 = []\n",
    "for i in range(len(bwtotal56)):\n",
    "    bw56.append(float(bwtotal56[i][0]))\n",
    "\n",
    "        \n",
    "#Let's try to normalize the data from the 56kg category\n",
    "total56 = []\n",
    "for i in range(len(bwtotal56)):\n",
    "    total56.append(float(bwtotal56[i][1]))\n",
    "    \n",
    "mean56 = np.mean(total56)\n",
    "std56 = np.std(total56)\n",
    "\n",
    "total56N = []\n",
    "for i in range(len(bw56)):\n",
    "    total56N.append((total56[i]-mean56)/std56)\n",
    "    \n",
    "max(total56N)           "
   ]
  },
  {
   "cell_type": "code",
   "execution_count": null,
   "metadata": {
    "collapsed": false
   },
   "outputs": [],
   "source": [
    "bwtotal62 = []\n",
    "\n",
    "for i in range(len(bw)):\n",
    "    if float(bw[i]) <=62 and float(bw[i]) >56:\n",
    "        bwtotal62.append((bw[i],total[i]))\n",
    "        \n",
    "bw62 = []\n",
    "for i in range(len(bwtotal62)):\n",
    "    bw62.append(float(bwtotal62[i][0]))\n",
    "\n",
    "        \n",
    "#Let's try to normalize the data from the 56kg category\n",
    "total62 = []\n",
    "for i in range(len(bwtotal62)):\n",
    "    total62.append(float(bwtotal62[i][1]))\n",
    "    \n",
    "mean62 = np.mean(total62)\n",
    "std62 = np.std(total62)\n",
    "\n",
    "total62N = []\n",
    "for i in range(len(bw62)):\n",
    "    total62N.append((total62[i]-mean62)/std62)\n",
    "    \n",
    "max(total62N) "
   ]
  },
  {
   "cell_type": "code",
   "execution_count": null,
   "metadata": {
    "collapsed": false
   },
   "outputs": [],
   "source": [
    "bwtotal69 = []\n",
    "\n",
    "for i in range(len(bw)):\n",
    "    if float(bw[i]) <=69 and float(bw[i]) >62:\n",
    "        bwtotal69.append((bw[i],total[i]))\n",
    "        \n",
    "bw69 = []\n",
    "for i in range(len(bwtotal69)):\n",
    "    bw69.append(float(bwtotal69[i][0]))\n",
    "\n",
    "        \n",
    "#Let's try to normalize the data from the 56kg category\n",
    "total69 = []\n",
    "for i in range(len(bwtotal69)):\n",
    "    total69.append(float(bwtotal69[i][1]))\n",
    "    \n",
    "mean69 = np.mean(total69)\n",
    "std69 = np.std(total69)\n",
    "\n",
    "total69N = []\n",
    "for i in range(len(bw69)):\n",
    "    total69N.append((total69[i]-mean69)/std69)\n",
    "    \n",
    "max(total69N)         "
   ]
  },
  {
   "cell_type": "code",
   "execution_count": null,
   "metadata": {
    "collapsed": false
   },
   "outputs": [],
   "source": [
    "bwtotal77 = []\n",
    "\n",
    "for i in range(len(bw)):\n",
    "    if float(bw[i]) <=77 and float(bw[i]) >69:\n",
    "        bwtotal77.append((bw[i],total[i]))\n",
    "        \n",
    "bw77 = []\n",
    "for i in range(len(bwtotal77)):\n",
    "    bw77.append(float(bwtotal77[i][0]))\n",
    "\n",
    "        \n",
    "#Let's try to normalize the data from the 56kg category\n",
    "total77 = []\n",
    "for i in range(len(bwtotal77)):\n",
    "    total77.append(float(bwtotal77[i][1]))\n",
    "    \n",
    "mean77 = np.mean(total77)\n",
    "std77 = np.std(total77)\n",
    "\n",
    "total77N = []\n",
    "for i in range(len(bw77)):\n",
    "    total77N.append((total77[i]-mean77)/std77)\n",
    "    \n",
    "max(total77N)         "
   ]
  },
  {
   "cell_type": "code",
   "execution_count": null,
   "metadata": {
    "collapsed": false
   },
   "outputs": [],
   "source": [
    "bwtotal85 = []\n",
    "\n",
    "for i in range(len(bw)):\n",
    "    if float(bw[i]) <=85 and float(bw[i]) >77:\n",
    "        bwtotal85.append((bw[i],total[i]))\n",
    "        \n",
    "bw85 = []\n",
    "for i in range(len(bwtotal85)):\n",
    "    bw85.append(float(bwtotal85[i][0]))\n",
    "\n",
    "        \n",
    "#Let's try to normalize the data from the 56kg category\n",
    "total85 = []\n",
    "for i in range(len(bwtotal85)):\n",
    "    total85.append(float(bwtotal85[i][1]))\n",
    "    \n",
    "mean85 = np.mean(total85)\n",
    "std85 = np.std(total85)\n",
    "\n",
    "total85N = []\n",
    "for i in range(len(bw85)):\n",
    "    total85N.append((total85[i]-mean85)/std85)\n",
    "    \n",
    "max(total85N)         "
   ]
  },
  {
   "cell_type": "code",
   "execution_count": null,
   "metadata": {
    "collapsed": false
   },
   "outputs": [],
   "source": [
    "bwtotal94 = []\n",
    "\n",
    "for i in range(len(bw)):\n",
    "    if float(bw[i]) <=94 and float(bw[i]) >85:\n",
    "        bwtotal94.append((bw[i],total[i]))\n",
    "        \n",
    "bw94 = []\n",
    "for i in range(len(bwtotal94)):\n",
    "    bw94.append(float(bwtotal94[i][0]))\n",
    "\n",
    "        \n",
    "#Let's try to normalize the data from the 56kg category\n",
    "total94 = []\n",
    "for i in range(len(bwtotal94)):\n",
    "    total94.append(float(bwtotal94[i][1]))\n",
    "    \n",
    "mean94 = np.mean(total94)\n",
    "std94 = np.std(total94)\n",
    "\n",
    "total94N = []\n",
    "for i in range(len(bw94)):\n",
    "    total94N.append((total94[i]-mean94)/std94)\n",
    "    \n",
    "max(total94N)         "
   ]
  },
  {
   "cell_type": "code",
   "execution_count": null,
   "metadata": {
    "collapsed": false
   },
   "outputs": [],
   "source": [
    "bwtotal105 = []\n",
    "\n",
    "for i in range(len(bw)):\n",
    "    if float(bw[i]) <=105 and float(bw[i]) >94:\n",
    "        bwtotal105.append((bw[i],total[i]))\n",
    "        \n",
    "bw105 = []\n",
    "for i in range(len(bwtotal105)):\n",
    "    bw105.append(float(bwtotal105[i][0]))\n",
    "\n",
    "        \n",
    "#Let's try to normalize the data from the 56kg category\n",
    "total105 = []\n",
    "for i in range(len(bwtotal105)):\n",
    "    total105.append(float(bwtotal105[i][1]))\n",
    "    \n",
    "mean105 = np.mean(total105)\n",
    "std105 = np.std(total105)\n",
    "\n",
    "total105N = []\n",
    "for i in range(len(bw105)):\n",
    "    total105N.append((total105[i]-mean105)/std105)\n",
    "    \n",
    "max(total105N)         "
   ]
  },
  {
   "cell_type": "code",
   "execution_count": null,
   "metadata": {
    "collapsed": false
   },
   "outputs": [],
   "source": [
    "bwtotalplus = []\n",
    "\n",
    "for i in range(len(bw)):\n",
    "    if float(bw[i]) > 105:\n",
    "        bwtotalplus.append((bw[i],total[i]))\n",
    "        \n",
    "bwplus = []\n",
    "for i in range(len(bwtotalplus)):\n",
    "    bwplus.append(float(bwtotalplus[i][0]))\n",
    "\n",
    "        \n",
    "#Let's try to normalize the data from the 56kg category\n",
    "totalplus = []\n",
    "for i in range(len(bwtotalplus)):\n",
    "    totalplus.append(float(bwtotalplus[i][1]))\n",
    "    \n",
    "meanplus = np.mean(totalplus)\n",
    "stdplus = np.std(totalplus)\n",
    "\n",
    "totalplusN = []\n",
    "for i in range(len(bwplus)):\n",
    "    totalplusN.append((totalplus[i]-meanplus)/stdplus)\n",
    "    \n",
    "max(totalplusN)         "
   ]
  },
  {
   "cell_type": "code",
   "execution_count": null,
   "metadata": {
    "collapsed": true
   },
   "outputs": [],
   "source": [
    "Sbw = []\n",
    "\n",
    "for i in range(len(bw56)):\n",
    "    Sbw.append(bw56[i])\n",
    "    \n",
    "for i in range(len(bw62)):\n",
    "    Sbw.append(bw62[i]) \n",
    "    \n",
    "for i in range(len(bw69)):\n",
    "    Sbw.append(bw69[i])  \n",
    "    \n",
    "for i in range(len(bw77)):\n",
    "    Sbw.append(bw77[i])   \n",
    "    \n",
    "for i in range(len(bw85)):\n",
    "    Sbw.append(bw85[i])  \n",
    "    \n",
    "for i in range(len(bw94)):\n",
    "    Sbw.append(bw94[i])   \n",
    "    \n",
    "for i in range(len(bw105)):\n",
    "    Sbw.append(bw105[i])  \n",
    "    \n",
    "for i in range(len(bwplus)):\n",
    "    Sbw.append(bwplus[i])    "
   ]
  },
  {
   "cell_type": "code",
   "execution_count": null,
   "metadata": {
    "collapsed": true
   },
   "outputs": [],
   "source": [
    "Stotal = []\n",
    "\n",
    "for i in range(len(total56N)):\n",
    "    Stotal.append(total56N[i])\n",
    "    \n",
    "for i in range(len(total62N)):\n",
    "    Stotal.append(total62N[i]) \n",
    "    \n",
    "for i in range(len(total69N)):\n",
    "    Stotal.append(total69N[i])  \n",
    "    \n",
    "for i in range(len(total77N)):\n",
    "    Stotal.append(total77N[i])   \n",
    "    \n",
    "for i in range(len(total85N)):\n",
    "    Stotal.append(total85N[i])  \n",
    "    \n",
    "for i in range(len(total94N)):\n",
    "    Stotal.append(total94N[i])   \n",
    "    \n",
    "for i in range(len(total105N)):\n",
    "    Stotal.append(total105N[i])  \n",
    "    \n",
    "for i in range(len(totalplusN)):\n",
    "    Stotal.append(totalplusN[i]) "
   ]
  },
  {
   "cell_type": "code",
   "execution_count": null,
   "metadata": {
    "collapsed": false
   },
   "outputs": [],
   "source": [
    "#plot of standarized total based on body weight\n",
    "plt.plot(Sbw, Stotal, 'ro')\n",
    "plt.axis([38, 192, -5, 2.5])\n",
    "plt.xlabel('Body Weight')\n",
    "plt.ylabel('Standarized Total')\n",
    "plt.savefig('bwvsstotal.png')\n",
    "plt.savefig('bwvsstotal.pdf')\n",
    "plt.show()"
   ]
  },
  {
   "cell_type": "code",
   "execution_count": null,
   "metadata": {
    "collapsed": false
   },
   "outputs": [],
   "source": [
    "maxlisttotal =[float(total56[0]), float(total62[0]), float(total69[0]), float(total77[0]), float(total85[0]), float(total94[0]), float(total105[0]), float(totalplus[0])]\n",
    "\n",
    "maxlistbw = [float(bw56[0]), float(bw62[0]), float(bw69[0]), float(bw77[0]), float(bw85[0]), float(bw94[0]), float(bw105[0]), float(bwplus[0])]\n",
    "\n",
    "MLTA = []\n",
    "MLTA.append(maxlisttotal)\n",
    "\n",
    "MLBWA = []\n",
    "MLBWA.append(maxlistbw)"
   ]
  },
  {
   "cell_type": "code",
   "execution_count": null,
   "metadata": {
    "collapsed": false
   },
   "outputs": [],
   "source": [
    "#plot of standarized total based on body weight\n",
    "plt.plot(maxlistbw, maxlisttotal, 'ro')\n",
    "plt.axis([54, 180, 200, 500])\n",
    "plt.xlabel('Body Weight')\n",
    "plt.ylabel('Best Total')\n",
    "plt.savefig('max.png')\n",
    "plt.savefig('max.pdf')\n",
    "plt.show()"
   ]
  },
  {
   "cell_type": "code",
   "execution_count": null,
   "metadata": {
    "collapsed": false
   },
   "outputs": [],
   "source": [
    "np.polyfit(maxlistbw, maxlisttotal, 1)"
   ]
  },
  {
   "cell_type": "code",
   "execution_count": null,
   "metadata": {
    "collapsed": false
   },
   "outputs": [],
   "source": [
    "from pylab import *\n",
    "from scipy.optimize import curve_fit\n",
    "\n",
    "x = np.array(maxlistbw)\n",
    "y = np.array(maxlisttotal)\n",
    "\n",
    "def func(x, a, b, c, d):\n",
    "    return a*np.exp(-c*(x-b))+d\n",
    "\n",
    "popt, pcov = curve_fit(func, x, y, [10,400,0.001,0])\n",
    "print(popt)\n",
    "\n",
    "plot(x,y)\n",
    "x=linspace(50,190,100)\n",
    "plot(x,func(x,*popt))\n",
    "plt.xlabel('Body Weight')\n",
    "plt.ylabel('Best Total')\n",
    "plt.savefig('approx.png')\n",
    "plt.savefig('approx.pdf')\n",
    "show()"
   ]
  },
  {
   "cell_type": "code",
   "execution_count": null,
   "metadata": {
    "collapsed": true
   },
   "outputs": [],
   "source": []
  }
 ],
 "metadata": {
  "kernelspec": {
   "display_name": "Python 3",
   "language": "python",
   "name": "python3"
  },
  "language_info": {
   "codemirror_mode": {
    "name": "ipython",
    "version": 3
   },
   "file_extension": ".py",
   "mimetype": "text/x-python",
   "name": "python",
   "nbconvert_exporter": "python",
   "pygments_lexer": "ipython3",
   "version": "3.4.3"
  }
 },
 "nbformat": 4,
 "nbformat_minor": 0
}
