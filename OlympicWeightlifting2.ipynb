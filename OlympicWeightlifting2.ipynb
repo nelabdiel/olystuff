{
 "cells": [
  {
   "cell_type": "code",
   "execution_count": null,
   "metadata": {
    "collapsed": true
   },
   "outputs": [],
   "source": [
    "#In this notebook I will try to standarized the results to see which weight class performs that way.\n",
    "#This is work in progress.\n",
    "import requests\n",
    "from bs4 import BeautifulSoup\n",
    "import matplotlib\n",
    "import matplotlib.pylab as plt\n",
    "import scipy as sp\n",
    "%matplotlib inline\n",
    "import math\n",
    "import matplotlib.pyplot as plt\n",
    "import numpy as np"
   ]
  },
  {
   "cell_type": "code",
   "execution_count": null,
   "metadata": {
    "collapsed": true
   },
   "outputs": [],
   "source": [
    "r = requests.get(\"http://www.iwf.net/results/ranking-list/?ranking_year=2015&ranking_agegroup=Senior&ranking_gender=M&ranking_category=all&ranking_lifter=all&x=18&y=10\")"
   ]
  },
  {
   "cell_type": "code",
   "execution_count": null,
   "metadata": {
    "collapsed": false
   },
   "outputs": [],
   "source": [
    "r.content"
   ]
  },
  {
   "cell_type": "code",
   "execution_count": null,
   "metadata": {
    "collapsed": true
   },
   "outputs": [],
   "source": [
    "soup = BeautifulSoup(r.content)"
   ]
  },
  {
   "cell_type": "code",
   "execution_count": null,
   "metadata": {
    "collapsed": true
   },
   "outputs": [],
   "source": [
    "rows = soup.find_all(\"tr\")"
   ]
  },
  {
   "cell_type": "code",
   "execution_count": null,
   "metadata": {
    "collapsed": true
   },
   "outputs": [],
   "source": [
    "#this list will collect the body weight of the lifters\n",
    "bw = []\n",
    "for row in rows:\n",
    "    cells = row.find_all('td')\n",
    "\n",
    "    \n",
    "\n",
    "    for i, cell in enumerate(cells):\n",
    "        if i == 4:\n",
    "            bw.append(cell.text.strip())"
   ]
  },
  {
   "cell_type": "code",
   "execution_count": null,
   "metadata": {
    "collapsed": false
   },
   "outputs": [],
   "source": [
    "#this list will collect the total lifted by the lifters.\n",
    "total = []\n",
    "for row in rows:\n",
    "    cells = row.find_all('td')\n",
    "\n",
    "    \n",
    "\n",
    "    for i, cell in enumerate(cells):\n",
    "        if i == 7:\n",
    "            total.append(cell.text.strip())"
   ]
  },
  {
   "cell_type": "code",
   "execution_count": null,
   "metadata": {
    "collapsed": false
   },
   "outputs": [],
   "source": [
    "bw56 = []\n",
    "\n",
    "for i in range(len(bw)):\n",
    "    if float(bw[i]) <=56:\n",
    "        bw56.append((bw[i],total[i]))"
   ]
  },
  {
   "cell_type": "code",
   "execution_count": null,
   "metadata": {
    "collapsed": false
   },
   "outputs": [],
   "source": [
    "bw62 = []\n",
    "\n",
    "for i in range(len(bw)):\n",
    "    if float(bw[i]) <=62 and float(bw[i]) >56:\n",
    "        bw62.append((bw[i],total[i]))"
   ]
  },
  {
   "cell_type": "code",
   "execution_count": null,
   "metadata": {
    "collapsed": true
   },
   "outputs": [],
   "source": [
    "bw69 = []\n",
    "\n",
    "for i in range(len(bw)):\n",
    "    if float(bw[i]) <=69 and float(bw[i]) >62:\n",
    "        bw69.append((bw[i],total[i]))"
   ]
  },
  {
   "cell_type": "code",
   "execution_count": null,
   "metadata": {
    "collapsed": true
   },
   "outputs": [],
   "source": [
    "bw77 = []\n",
    "\n",
    "for i in range(len(bw)):\n",
    "    if float(bw[i]) <=77 and float(bw[i]) >69:\n",
    "        bw77.append((bw[i],total[i]))"
   ]
  },
  {
   "cell_type": "code",
   "execution_count": null,
   "metadata": {
    "collapsed": true
   },
   "outputs": [],
   "source": [
    "bw85 = []\n",
    "\n",
    "for i in range(len(bw)):\n",
    "    if float(bw[i]) <=85 and float(bw[i]) >77:\n",
    "        bw85.append((bw[i],total[i]))"
   ]
  },
  {
   "cell_type": "code",
   "execution_count": null,
   "metadata": {
    "collapsed": true
   },
   "outputs": [],
   "source": [
    "bw94 = []\n",
    "\n",
    "for i in range(len(bw)):\n",
    "    if float(bw[i]) <=94 and float(bw[i]) >85:\n",
    "        bw94.append((bw[i],total[i]))"
   ]
  },
  {
   "cell_type": "code",
   "execution_count": null,
   "metadata": {
    "collapsed": true
   },
   "outputs": [],
   "source": [
    "bw105 = []\n",
    "\n",
    "for i in range(len(bw)):\n",
    "    if float(bw[i]) <=105 and float(bw[i]) >94:\n",
    "        bw105.append((bw[i],total[i]))"
   ]
  },
  {
   "cell_type": "code",
   "execution_count": null,
   "metadata": {
    "collapsed": true
   },
   "outputs": [],
   "source": [
    "bwplus = []\n",
    "\n",
    "for i in range(len(bw)):\n",
    "    if float(bw[i]) > 105:\n",
    "        bwplus.append((bw[i],total[i]))"
   ]
  },
  {
   "cell_type": "code",
   "execution_count": null,
   "metadata": {
    "collapsed": false
   },
   "outputs": [],
   "source": [
    "len(bw56)+len(bw62)+len(bw69)+len(bw77)+len(bw85)+len(bw94)+len(bw105)+len(bwplus)"
   ]
  },
  {
   "cell_type": "code",
   "execution_count": null,
   "metadata": {
    "collapsed": false
   },
   "outputs": [],
   "source": [
    "#Let's try to normalize the data from the 56kg category\n",
    "total56 = []\n",
    "for i in range(len(bw56)):\n",
    "    total56.append(float(bw56[i][1]))\n",
    "    \n",
    "mean56 = np.mean(total56)\n",
    "std56 = np.std(total56)\n",
    "bw56N = []\n",
    "for i in range(len(bw56)):\n",
    "    bw56N.append((total56[i]-mean56)/std56)\n",
    "    \n",
    "max(bw56N)    "
   ]
  },
  {
   "cell_type": "code",
   "execution_count": null,
   "metadata": {
    "collapsed": false
   },
   "outputs": [],
   "source": [
    "#Let's try to normalize the data from the 62kg category\n",
    "total62 = []\n",
    "for i in range(len(bw62)):\n",
    "    total62.append(float(bw62[i][1]))\n",
    "    \n",
    "mean62 = np.mean(total62)\n",
    "std62 = np.std(total62)  \n",
    "\n",
    "bw62N = []\n",
    "for i in range(len(bw62)):\n",
    "    bw62N.append((total62[i]-mean62)/std62)\n",
    "    \n",
    "max(bw62N)    "
   ]
  },
  {
   "cell_type": "code",
   "execution_count": null,
   "metadata": {
    "collapsed": false
   },
   "outputs": [],
   "source": [
    "#Let's try to normalize the data from the 69kg category\n",
    "total69 = []\n",
    "for i in range(len(bw69)):\n",
    "    total69.append(float(bw69[i][1]))\n",
    "    \n",
    "mean69 = np.mean(total69)\n",
    "std69 = np.std(total69)  \n",
    "\n",
    "bw69N = []\n",
    "for i in range(len(bw69)):\n",
    "    bw69N.append((total69[i]-mean69)/std69)\n",
    "    \n",
    "max(bw69N)    "
   ]
  },
  {
   "cell_type": "code",
   "execution_count": null,
   "metadata": {
    "collapsed": false
   },
   "outputs": [],
   "source": [
    "#Let's try to normalize the data from the 77kg category\n",
    "total77 = []\n",
    "for i in range(len(bw77)):\n",
    "    total77.append(float(bw77[i][1]))\n",
    "    \n",
    "mean77 = np.mean(total77)\n",
    "std77 = np.std(total77)  \n",
    "\n",
    "bw77N = []\n",
    "for i in range(len(bw77)):\n",
    "    bw77N.append((total77[i]-mean77)/std77)\n",
    "    \n",
    "max(bw77N)  "
   ]
  },
  {
   "cell_type": "code",
   "execution_count": null,
   "metadata": {
    "collapsed": false
   },
   "outputs": [],
   "source": [
    "#Let's try to normalize the data from the 85kg category\n",
    "total85 = []\n",
    "for i in range(len(bw85)):\n",
    "    total85.append(float(bw85[i][1]))\n",
    "    \n",
    "mean85 = np.mean(total85)\n",
    "std85 = np.std(total85)  \n",
    "\n",
    "bw85N = []\n",
    "for i in range(len(bw85)):\n",
    "    bw85N.append((total85[i]-mean85)/std85)\n",
    "    \n",
    "max(bw85N)  "
   ]
  },
  {
   "cell_type": "code",
   "execution_count": null,
   "metadata": {
    "collapsed": false
   },
   "outputs": [],
   "source": [
    "#Let's try to normalize the data from the 94kg category\n",
    "total94 = []\n",
    "for i in range(len(bw94)):\n",
    "    total94.append(float(bw94[i][1]))\n",
    "    \n",
    "mean94 = np.mean(total94)\n",
    "std94 = np.std(total94)  \n",
    "\n",
    "bw94N = []\n",
    "for i in range(len(bw94)):\n",
    "    bw94N.append((total94[i]-mean94)/std94)\n",
    "    \n",
    "max(bw94N)  "
   ]
  },
  {
   "cell_type": "code",
   "execution_count": null,
   "metadata": {
    "collapsed": false
   },
   "outputs": [],
   "source": [
    "#Let's try to normalize the data from the 105kg category\n",
    "total105 = []\n",
    "for i in range(len(bw105)):\n",
    "    total105.append(float(bw105[i][1]))\n",
    "    \n",
    "mean105 = np.mean(total105)\n",
    "std105 = np.std(total105)  \n",
    "\n",
    "bw105N = []\n",
    "for i in range(len(bw105)):\n",
    "    bw105N.append((total105[i]-mean105)/std105)\n",
    "    \n",
    "max(bw105N) "
   ]
  },
  {
   "cell_type": "code",
   "execution_count": null,
   "metadata": {
    "collapsed": true
   },
   "outputs": [],
   "source": [
    "#Let's try to normalize the data from the 105pluskg category\n",
    "totalplus = []\n",
    "for i in range(len(bwplus)):\n",
    "    totalplus.append(float(bwplus[i][1]))\n",
    "    \n",
    "meanplus = np.mean(totalplus)\n",
    "stdplus = np.std(totalplus)\n",
    "\n",
    "bwplusN = []\n",
    "for i in range(len(bwplus)):\n",
    "    bwplusN.append((totalplus[i]-meanplus)/stdplus)\n",
    "\n",
    "max(bwplusN)"
   ]
  }
 ],
 "metadata": {
  "kernelspec": {
   "display_name": "Python 3",
   "language": "python",
   "name": "python3"
  },
  "language_info": {
   "codemirror_mode": {
    "name": "ipython",
    "version": 3
   },
   "file_extension": ".py",
   "mimetype": "text/x-python",
   "name": "python",
   "nbconvert_exporter": "python",
   "pygments_lexer": "ipython3",
   "version": "3.4.3"
  }
 },
 "nbformat": 4,
 "nbformat_minor": 0
}
