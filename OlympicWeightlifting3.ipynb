{
 "cells": [
  {
   "cell_type": "code",
   "execution_count": null,
   "metadata": {
    "collapsed": true
   },
   "outputs": [],
   "source": [
    "#In this notebook I'm using the current world records as a base for our formula.\n",
    "\n",
    "import requests\n",
    "from bs4 import BeautifulSoup\n",
    "import matplotlib\n",
    "import scipy as sp\n",
    "%matplotlib inline\n",
    "import math\n",
    "import matplotlib.pyplot as plt\n",
    "import numpy as np"
   ]
  },
  {
   "cell_type": "code",
   "execution_count": null,
   "metadata": {
    "collapsed": true
   },
   "outputs": [],
   "source": [
    "wr = [(55.62, 305), (61.81, 332), (68.68, 359), (76.40, 380), (84.69, 394), (93.52, 418), (104.76, 436), (147.48,472)]"
   ]
  },
  {
   "cell_type": "code",
   "execution_count": null,
   "metadata": {
    "collapsed": true
   },
   "outputs": [],
   "source": [
    "bw = []\n",
    "total = []\n",
    "\n",
    "for i in range(len(wr)):\n",
    "    bw.append(wr[i][0])\n",
    "    total.append(wr[i][1])\n",
    "    "
   ]
  },
  {
   "cell_type": "code",
   "execution_count": null,
   "metadata": {
    "collapsed": false
   },
   "outputs": [],
   "source": [
    "bw"
   ]
  },
  {
   "cell_type": "code",
   "execution_count": null,
   "metadata": {
    "collapsed": false
   },
   "outputs": [],
   "source": [
    "total"
   ]
  },
  {
   "cell_type": "code",
   "execution_count": null,
   "metadata": {
    "collapsed": false
   },
   "outputs": [],
   "source": [
    "#plot of standarized total based on body weight\n",
    "plt.plot(bw, total, 'ro')\n",
    "plt.axis([50, 160, 200, 500])\n",
    "plt.xlabel('Body Weight')\n",
    "plt.ylabel('World Record')\n",
    "plt.savefig('max.png')\n",
    "plt.savefig('max.pdf')\n",
    "plt.show()"
   ]
  },
  {
   "cell_type": "code",
   "execution_count": null,
   "metadata": {
    "collapsed": false
   },
   "outputs": [],
   "source": [
    "from pylab import *\n",
    "from scipy.optimize import curve_fit\n",
    "\n",
    "x = np.array(bw)\n",
    "y = np.array(total)\n",
    "\n",
    "def func(x, a, b, c, d):\n",
    "    return a*np.exp(-c*(x-b))+d\n",
    "\n",
    "popt, pcov = curve_fit(func, x, y, [10,100,0.001,0])\n",
    "print(popt)\n",
    "\n",
    "plot(x,y)\n",
    "x=linspace(50,190,100)\n",
    "plot(x,func(x,*popt))\n",
    "plt.xlabel('Body Weight')\n",
    "plt.ylabel('World Record')\n",
    "plt.savefig('approxexp2.png')\n",
    "plt.savefig('approxexp2.pdf')\n",
    "show()"
   ]
  },
  {
   "cell_type": "code",
   "execution_count": null,
   "metadata": {
    "collapsed": false
   },
   "outputs": [],
   "source": [
    "comparison = []\n",
    "for i in range(len(bw)):\n",
    "    comparison.append((bw[i], total[i]-func(bw[i], *popt)))"
   ]
  },
  {
   "cell_type": "code",
   "execution_count": null,
   "metadata": {
    "collapsed": false
   },
   "outputs": [],
   "source": [
    "comparison"
   ]
  },
  {
   "cell_type": "code",
   "execution_count": null,
   "metadata": {
    "collapsed": false
   },
   "outputs": [],
   "source": [
    "from pylab import *\n",
    "from scipy.optimize import curve_fit\n",
    "\n",
    "x = np.array(bw)\n",
    "y = np.array(total)\n",
    "\n",
    "def func(x, a, b, c, d):\n",
    "    return a*np.log(c*(x-b))+d\n",
    "\n",
    "popt, pcov = curve_fit(func, x, y, [10,50,0.001,0])\n",
    "print(popt)\n",
    "\n",
    "plot(x,y)\n",
    "x=linspace(50,190,100)\n",
    "plot(x,func(x,*popt))\n",
    "plt.xlabel('Body Weight')\n",
    "plt.ylabel('World Records')\n",
    "plt.savefig('approxlog2.png')\n",
    "plt.savefig('approxlog2.pdf')\n",
    "show()"
   ]
  },
  {
   "cell_type": "code",
   "execution_count": null,
   "metadata": {
    "collapsed": false
   },
   "outputs": [],
   "source": [
    "comparison2 = []\n",
    "for i in range(len(bw)):\n",
    "    comparison2.append((bw[i], total[i]-func(bw[i], *popt)))\n",
    "    \n",
    "print(comparison2)    "
   ]
  }
 ],
 "metadata": {
  "kernelspec": {
   "display_name": "Python 3",
   "language": "python",
   "name": "python3"
  },
  "language_info": {
   "codemirror_mode": {
    "name": "ipython",
    "version": 3
   },
   "file_extension": ".py",
   "mimetype": "text/x-python",
   "name": "python",
   "nbconvert_exporter": "python",
   "pygments_lexer": "ipython3",
   "version": "3.4.3"
  }
 },
 "nbformat": 4,
 "nbformat_minor": 0
}
