{
 "cells": [
  {
   "cell_type": "code",
   "execution_count": null,
   "metadata": {
    "collapsed": true
   },
   "outputs": [],
   "source": [
    "#In this notebook I'm using the current world records as a base for our formula.\n",
    "\n",
    "import requests\n",
    "from bs4 import BeautifulSoup\n",
    "import matplotlib\n",
    "import scipy as sp\n",
    "%matplotlib inline\n",
    "import math\n",
    "import matplotlib.pyplot as plt\n",
    "import numpy as np"
   ]
  },
  {
   "cell_type": "code",
   "execution_count": 2,
   "metadata": {
    "collapsed": true
   },
   "outputs": [],
   "source": [
    "wr = [(55.62, 305), (61.81, 332), (68.68, 359), (76.40, 380), (84.69, 394), (93.52, 418), (104.76, 436), (147.48,472)]"
   ]
  },
  {
   "cell_type": "code",
   "execution_count": 5,
   "metadata": {
    "collapsed": true
   },
   "outputs": [],
   "source": [
    "bw = []\n",
    "total = []\n",
    "\n",
    "for i in range(len(wr)):\n",
    "    bw.append(wr[i][0])\n",
    "    total.append(wr[i][1])\n",
    "    "
   ]
  },
  {
   "cell_type": "code",
   "execution_count": 6,
   "metadata": {
    "collapsed": false
   },
   "outputs": [
    {
     "data": {
      "text/plain": [
       "[55.62, 61.81, 68.68, 76.4, 84.69, 93.52, 104.76, 147.48]"
      ]
     },
     "execution_count": 6,
     "metadata": {},
     "output_type": "execute_result"
    }
   ],
   "source": [
    "bw"
   ]
  },
  {
   "cell_type": "code",
   "execution_count": 7,
   "metadata": {
    "collapsed": false
   },
   "outputs": [
    {
     "data": {
      "text/plain": [
       "[305, 332, 359, 380, 394, 418, 436, 472]"
      ]
     },
     "execution_count": 7,
     "metadata": {},
     "output_type": "execute_result"
    }
   ],
   "source": [
    "total"
   ]
  },
  {
   "cell_type": "code",
   "execution_count": 9,
   "metadata": {
    "collapsed": false
   },
   "outputs": [
    {
     "data": {
      "image/png": "[encoded data removed]",
      "text/plain": [
       "<matplotlib.figure.Figure at 0x10614ae80>"
      ]
     },
     "metadata": {},
     "output_type": "display_data"
    }
   ],
   "source": [
    "#plot of standarized total based on body weight\n",
    "plt.plot(bw, total, 'ro')\n",
    "plt.axis([50, 160, 200, 500])\n",
    "plt.xlabel('Body Weight')\n",
    "plt.ylabel('World Record')\n",
    "plt.savefig('max.png')\n",
    "plt.savefig('max.pdf')\n",
    "plt.show()"
   ]
  },
  {
   "cell_type": "code",
   "execution_count": 18,
   "metadata": {
    "collapsed": false
   },
   "outputs": [
    {
     "name": "stdout",
     "output_type": "stream",
     "text": [
      "[ -3.57405684e+00   2.22824595e+02   2.36698834e-02   4.93289885e+02]\n"
     ]
    },
    {
     "data": {
      "image/png": "[encoded data removed]",
      "text/plain": [
       "<matplotlib.figure.Figure at 0x107a7a518>"
      ]
     },
     "metadata": {},
     "output_type": "display_data"
    }
   ],
   "source": [
    "from pylab import *\n",
    "from scipy.optimize import curve_fit\n",
    "\n",
    "x = np.array(bw)\n",
    "y = np.array(total)\n",
    "\n",
    "def func(x, a, b, c, d):\n",
    "    return a*np.exp(-c*(x-b))+d\n",
    "\n",
    "popt, pcov = curve_fit(func, x, y, [10,100,0.001,0])\n",
    "print(popt)\n",
    "\n",
    "plot(x,y)\n",
    "x=linspace(50,190,100)\n",
    "plot(x,func(x,*popt))\n",
    "plt.xlabel('Body Weight')\n",
    "plt.ylabel('World Record')\n",
    "plt.savefig('approxexp2.png')\n",
    "plt.savefig('approxexp2.pdf')\n",
    "show()"
   ]
  },
  {
   "cell_type": "code",
   "execution_count": 20,
   "metadata": {
    "collapsed": false
   },
   "outputs": [],
   "source": [
    "comparison = []\n",
    "for i in range(len(bw)):\n",
    "    comparison.append((bw[i], total[i]-func(bw[i], *popt)))"
   ]
  },
  {
   "cell_type": "code",
   "execution_count": 21,
   "metadata": {
    "collapsed": false
   },
   "outputs": [
    {
     "data": {
      "text/plain": [
       "[(55.62, -1.2326600033341037),\n",
       " (61.81, 0.27357523934358596),\n",
       " (68.68, 3.0262619860883433),\n",
       " (76.4, 1.093337316727343),\n",
       " (84.69, -5.2864732139834132),\n",
       " (93.52, 0.9836487579574964),\n",
       " (104.76, 1.1662426761891425),\n",
       " (147.48, -0.024107224296926688)]"
      ]
     },
     "execution_count": 21,
     "metadata": {},
     "output_type": "execute_result"
    }
   ],
   "source": [
    "comparison"
   ]
  },
  {
   "cell_type": "code",
   "execution_count": 27,
   "metadata": {
    "collapsed": false
   },
   "outputs": [
    {
     "name": "stdout",
     "output_type": "stream",
     "text": [
      "[  8.54777229e+01   4.13570740e+01   6.08256248e-03   5.12450855e+02]\n"
     ]
    },
    {
     "name": "stderr",
     "output_type": "stream",
     "text": [
      "//anaconda/lib/python3.4/site-packages/ipykernel/__main__.py:8: RuntimeWarning: invalid value encountered in log\n"
     ]
    },
    {
     "data": {
      "image/png": "[encoded data removed]",
      "text/plain": [
       "<matplotlib.figure.Figure at 0x10802acf8>"
      ]
     },
     "metadata": {},
     "output_type": "display_data"
    }
   ],
   "source": [
    "from pylab import *\n",
    "from scipy.optimize import curve_fit\n",
    "\n",
    "x = np.array(bw)\n",
    "y = np.array(total)\n",
    "\n",
    "def func(x, a, b, c, d):\n",
    "    return a*np.log(c*(x-b))+d\n",
    "\n",
    "popt, pcov = curve_fit(func, x, y, [10,50,0.001,0])\n",
    "print(popt)\n",
    "\n",
    "plot(x,y)\n",
    "x=linspace(50,190,100)\n",
    "plot(x,func(x,*popt))\n",
    "plt.xlabel('Body Weight')\n",
    "plt.ylabel('World Records')\n",
    "plt.savefig('approxlog2.png')\n",
    "plt.savefig('approxlog2.pdf')\n",
    "show()"
   ]
  },
  {
   "cell_type": "code",
   "execution_count": 23,
   "metadata": {
    "collapsed": false
   },
   "outputs": [
    {
     "name": "stdout",
     "output_type": "stream",
     "text": [
      "[(55.62, 1.5135965286452233), (61.81, -2.2979060334024553), (68.68, -0.052269727768702978), (76.4, -0.32319910717717448), (84.69, -4.4734528529509134), (93.52, 3.6739126830386795), (104.76, 4.9939608624491143), (147.48, -3.0345961433694697)]\n"
     ]
    }
   ],
   "source": [
    "comparison2 = []\n",
    "for i in range(len(bw)):\n",
    "    comparison2.append((bw[i], total[i]-func(bw[i], *popt)))\n",
    "    \n",
    "print(comparison2)    "
   ]
  },
  {
   "cell_type": "code",
   "execution_count": null,
   "metadata": {
    "collapsed": true
   },
   "outputs": [],
   "source": []
  }
 ],
 "metadata": {
  "kernelspec": {
   "display_name": "Python 3",
   "language": "python",
   "name": "python3"
  },
  "language_info": {
   "codemirror_mode": {
    "name": "ipython",
    "version": 3
   },
   "file_extension": ".py",
   "mimetype": "text/x-python",
   "name": "python",
   "nbconvert_exporter": "python",
   "pygments_lexer": "ipython3",
   "version": "3.4.3"
  }
 },
 "nbformat": 4,
 "nbformat_minor": 0
}
